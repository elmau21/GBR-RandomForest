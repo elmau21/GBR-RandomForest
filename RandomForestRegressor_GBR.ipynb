{
  "nbformat": 4,
  "nbformat_minor": 0,
  "metadata": {
    "colab": {
      "provenance": []
    },
    "kernelspec": {
      "name": "python3",
      "display_name": "Python 3"
    },
    "language_info": {
      "name": "python"
    }
  },
  "cells": [
    {
      "cell_type": "code",
      "execution_count": 1,
      "metadata": {
        "colab": {
          "base_uri": "https://localhost:8080/"
        },
        "id": "Zwx1JjAX8Ecw",
        "outputId": "bae02e32-adbb-4cf4-c94b-ff5004ea5884"
      },
      "outputs": [
        {
          "output_type": "stream",
          "name": "stdout",
          "text": [
            "Fitting 3 folds for each of 3 candidates, totalling 9 fits\n",
            "[CV] END ...........................final_estimator__alpha=1; total time= 1.0min\n",
            "[CV] END ...........................final_estimator__alpha=1; total time=  58.8s\n",
            "[CV] END ...........................final_estimator__alpha=1; total time=  59.4s\n",
            "[CV] END ..........................final_estimator__alpha=10; total time=  59.9s\n",
            "[CV] END ..........................final_estimator__alpha=10; total time=  59.9s\n",
            "[CV] END ..........................final_estimator__alpha=10; total time= 1.0min\n",
            "[CV] END .........................final_estimator__alpha=100; total time=  59.8s\n",
            "[CV] END .........................final_estimator__alpha=100; total time=  59.9s\n",
            "[CV] END .........................final_estimator__alpha=100; total time=  59.3s\n",
            "Stacking Regressor RMSE on Validation Set: 28.18742570652472\n"
          ]
        }
      ],
      "source": [
        "import pandas as pd\n",
        "import numpy as np\n",
        "from sklearn.model_selection import train_test_split, GridSearchCV\n",
        "from sklearn.linear_model import Ridge, Lasso\n",
        "from sklearn.ensemble import RandomForestRegressor, GradientBoostingRegressor, StackingRegressor\n",
        "from sklearn.preprocessing import StandardScaler, PolynomialFeatures\n",
        "from sklearn.metrics import mean_squared_error\n",
        "from math import sqrt\n",
        "\n",
        "# Load the datasets\n",
        "train_data = pd.read_csv('train.csv')\n",
        "test_data = pd.read_csv('test.csv')\n",
        "\n",
        "# Handle missing values\n",
        "train_data.fillna(0, inplace=True)\n",
        "test_data.fillna(0, inplace=True)\n",
        "\n",
        "# Feature Engineering: Add a Total Bases feature\n",
        "train_data['TB'] = train_data['S'] + (2 * train_data['2B']) + (3 * train_data['3B']) + (4 * train_data['HR'])\n",
        "test_data['TB'] = test_data['S'] + (2 * test_data['2B']) + (3 * test_data['3B']) + (4 * test_data['HR'])\n",
        "\n",
        "# Prepare the features and target variable\n",
        "X = train_data.drop(['Id', 'R', 'yearID'], axis=1)\n",
        "y = train_data['R']\n",
        "\n",
        "# Split the data into training and validation sets\n",
        "X_train, X_val, y_train, y_val = train_test_split(X, y, test_size=0.2, random_state=42)\n",
        "\n",
        "# Feature Scaling\n",
        "scaler = StandardScaler()\n",
        "X_train_scaled = scaler.fit_transform(X_train)\n",
        "X_val_scaled = scaler.transform(X_val)\n",
        "\n",
        "# Polynomial Features\n",
        "poly = PolynomialFeatures(degree=2, include_bias=False)\n",
        "X_train_poly = poly.fit_transform(X_train_scaled)\n",
        "X_val_poly = poly.transform(X_val_scaled)\n",
        "\n",
        "# Define base models\n",
        "ridge = Ridge(alpha=1.0)\n",
        "lasso = Lasso(alpha=1.0)\n",
        "rf = RandomForestRegressor(n_estimators=100, random_state=42)\n",
        "gb = GradientBoostingRegressor(n_estimators=100, random_state=42)\n",
        "\n",
        "# Stacking Regressor\n",
        "stacked_model = StackingRegressor(\n",
        "    estimators=[('ridge', ridge), ('lasso', lasso), ('rf', rf), ('gb', gb)],\n",
        "    final_estimator=Ridge()  # Removed the alpha parameter here because of an error in the process\n",
        ")\n",
        "\n",
        "# Hyperparameter Tuning for Stacking Regressor\n",
        "param_grid_stacked = {\n",
        "    'final_estimator__alpha': [1, 10, 100],\n",
        "}\n",
        "\n",
        "grid_search_stacked = GridSearchCV(estimator=stacked_model, param_grid=param_grid_stacked, cv=3, scoring='neg_mean_squared_error', verbose=2)\n",
        "grid_search_stacked.fit(X_train_poly, y_train)\n",
        "\n",
        "# Best hyperparameters for Stacking Regressor\n",
        "best_alpha_stacked = grid_search_stacked.best_params_['final_estimator__alpha']\n",
        "\n",
        "# Re-train Stacking Regressor with best hyperparameters\n",
        "stacked_model_best = StackingRegressor(\n",
        "    estimators=[('ridge', ridge), ('lasso', lasso), ('rf', rf), ('gb', gb)],\n",
        "    final_estimator=Ridge(alpha=best_alpha_stacked)\n",
        ")\n",
        "stacked_model_best.fit(X_train_poly, y_train)\n",
        "\n",
        "# Validation performance for Stacking Regressor\n",
        "y_pred_val_stacked = stacked_model_best.predict(X_val_poly)\n",
        "rmse_val_stacked = sqrt(mean_squared_error(y_val, y_pred_val_stacked))\n",
        "print(f'Stacking Regressor RMSE on Validation Set: {rmse_val_stacked}')\n",
        "\n",
        "# Prepare the test data\n",
        "X_test = test_data.drop(['Id', 'yearID'], axis=1)\n",
        "X_test_scaled = scaler.transform(X_test)\n",
        "X_test_poly = poly.transform(X_test_scaled)\n",
        "\n",
        "# Predicting the target for the test data\n",
        "predictions = stacked_model_best.predict(X_test_poly)\n",
        "\n",
        "# Creating the submission file\n",
        "submission = pd.DataFrame({\n",
        "    'Id': test_data['Id'],\n",
        "    'R': predictions\n",
        "})\n",
        "submission.to_csv('submission_advanced.csv', index=False)"
      ]
    },
    {
      "cell_type": "code",
      "source": [],
      "metadata": {
        "id": "rIM_IhZcDsJ8"
      },
      "execution_count": null,
      "outputs": []
    }
  ]
}